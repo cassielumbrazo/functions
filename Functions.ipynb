{
 "cells": [
  {
   "cell_type": "markdown",
   "id": "fca3bd7c-77c8-4e2a-b7c1-e27afbb5bd8c",
   "metadata": {},
   "source": [
    "# A place to store functions that are useful\n",
    "Cassie Lumbrazo"
   ]
  },
  {
   "cell_type": "markdown",
   "id": "58f8d14d-532c-48f9-9a84-beff472b6b05",
   "metadata": {
    "tags": []
   },
   "source": [
    "## Import Packages"
   ]
  },
  {
   "cell_type": "code",
   "execution_count": 2,
   "id": "e83af055-9113-419b-9838-c8b56768b039",
   "metadata": {},
   "outputs": [],
   "source": [
    "# import packages \n",
    "%matplotlib widget\n",
    "# plotting packages \n",
    "import matplotlib as mpl\n",
    "import matplotlib.pyplot as plt\n",
    "import seaborn as sns \n",
    "\n",
    "# interactive plotting\n",
    "import plotly.express as px\n",
    "import plotly.graph_objects as go\n",
    "from plotly.subplots import make_subplots\n",
    "\n",
    "# data packages \n",
    "import pandas as pd\n",
    "import numpy as np\n",
    "import xarray as xr\n",
    "from datetime import datetime\n",
    "\n",
    "import csv \n",
    "import copy \n",
    "import os.path "
   ]
  },
  {
   "cell_type": "markdown",
   "id": "9b5793c1-872d-48d1-a26e-d93e051586ad",
   "metadata": {},
   "source": [
    "## Useful code"
   ]
  },
  {
   "cell_type": "code",
   "execution_count": null,
   "id": "80940cc2-8ae5-4b90-a05b-d7a50c56b412",
   "metadata": {},
   "outputs": [],
   "source": [
    "met = met.loc['2020-11-01T00:00:00':'2021-05-18T00:00:00'] "
   ]
  },
  {
   "cell_type": "code",
   "execution_count": null,
   "id": "1949b9f6-f3e3-4ba0-85dd-3715b25452b2",
   "metadata": {},
   "outputs": [],
   "source": []
  },
  {
   "cell_type": "code",
   "execution_count": null,
   "id": "603bed37-e6ac-48ac-a84c-e969a7124b69",
   "metadata": {},
   "outputs": [],
   "source": []
  },
  {
   "cell_type": "code",
   "execution_count": null,
   "id": "a0666cfb-35f8-42c6-8592-0412388184ab",
   "metadata": {},
   "outputs": [],
   "source": []
  },
  {
   "cell_type": "markdown",
   "id": "ab4b68e6-19f1-4a02-9494-0fe1b2725b1c",
   "metadata": {
    "tags": []
   },
   "source": [
    "## Functions"
   ]
  },
  {
   "cell_type": "code",
   "execution_count": 1,
   "id": "cfaa4a7a-ef5e-4680-aa28-75df37789cd1",
   "metadata": {},
   "outputs": [],
   "source": [
    "# Calculating the specific humidtiy from RH, temperature, and airpressure\n",
    "def spechum(rh, T, p):\n",
    "    T0 = 273.15\n",
    "    return rh * np.exp((17.67*(T-T0))/(T-29.65)) / (0.263*p)\n",
    "\n",
    "# Example code: how I used it  \n",
    "#niwot_spechum = spechum(ds.RH, ds.temp_K, ds.air_press_Pa)"
   ]
  },
  {
   "cell_type": "code",
   "execution_count": null,
   "id": "c2f73367-e6bf-4b3a-b29d-07a1cb9aea04",
   "metadata": {},
   "outputs": [],
   "source": [
    "# Calculating the RH from specific humidtiy, temperature, and air pressure\n",
    "def RH(spechum, T, p):\n",
    "    T0 = 273.15\n",
    "    return  (np.exp((17.67*(T-T0))/(T-29.65)) / (0.263*p)) / spechum\n",
    "\n",
    "# Example code: how I used it  \n",
    "#niwot_RH = RH(ds.spechum, ds.temp_K, ds.air_press_Pa)"
   ]
  },
  {
   "cell_type": "code",
   "execution_count": 4,
   "id": "f478eaee-7ad7-4002-95c6-210aadf3c44e",
   "metadata": {},
   "outputs": [],
   "source": [
    "# Working with HRRR downloaded data \n",
    "def getPixelCoords(dataArrayIn,lat,lon,pointLat,pointLon):\n",
    "    from scipy import spatial\n",
    "    pixel_center_points = np.stack((dataArrayIn[lat].values.flatten(), dataArrayIn[lon].values.flatten()), axis=-1)\n",
    "    tree = spatial.KDTree(pixel_center_points)\n",
    "    searchCoords = (pointLat,pointLon)\n",
    "    distance, index = tree.query(searchCoords)\n",
    "    pixel_coords_Out = np.unravel_index(index, dataArrayIn.shape)\n",
    "    return pixel_coords_Out\n",
    "\n",
    "# Example code: how I used it  \n",
    "# mw_index = getPixelCoords(ds['t2m'],'latitude','longitude', mw_lat, mw_lon)"
   ]
  },
  {
   "cell_type": "code",
   "execution_count": 8,
   "id": "156fd37a-def8-4c1b-94c9-b337e9333ee6",
   "metadata": {},
   "outputs": [],
   "source": [
    "# Calculating Wind Speed from U and V vectors, needed this for hrrrpy \n",
    "def calWindSpeed(u, v):\n",
    "    u = ds['u10'][:,index[1],index[2]]\n",
    "    v = ds['v10'][:,index[1],index[2]]\n",
    "\n",
    "    windspd = np.sqrt(np.square(u)+np.square(v))\n",
    "    \n",
    "    return windspd "
   ]
  },
  {
   "cell_type": "code",
   "execution_count": 1,
   "id": "f544dc55-5e1b-46af-853d-d88002e452f2",
   "metadata": {},
   "outputs": [],
   "source": [
    "# Shading the snow in the canopy classifications\n",
    "def Shade(fig, df, variable, level, mode, fillcolor, layer, opacity):\n",
    "  \n",
    "    \"\"\"\n",
    "    Set a specified color as background for given levels of a specified variable using a shape.\n",
    "    \n",
    "    Keyword arguments:\n",
    "    ==================\n",
    "    fig -- plotly figure\n",
    "    variable -- column name in a pandas dataframe\n",
    "    level -- int or float\n",
    "    mode -- set threshold above or below\n",
    "    fillcolor -- any color type that plotly can handle\n",
    "    layer -- position of shape in plotly fiugre, like \"below\"\n",
    "    opacity -- opacity of the fillcolor, WORKING but the ordering matters.. so pay attention to that \n",
    "    \"\"\"\n",
    "    \n",
    "    if mode == 'above':\n",
    "        m = df[variable].gt(level) # greater than function\n",
    "    \n",
    "    if mode == 'below':\n",
    "        m = df[variable].lt(level) # less than function\n",
    "        \n",
    "    df1 = df[m].groupby((~m).cumsum())['datetime'].agg(['first','last'])\n",
    "\n",
    "    for index, row in df1.iterrows():\n",
    "        # print(row['first'], row['last'])\n",
    "        fig.add_shape(type=\"rect\", xref=\"x\", yref=\"paper\", x0=row['first'], y0=0, x1=row['last'], y1=1, opacity=opacity, line=dict(color=\"rgba(0,0,0,0)\",width=3),fillcolor=fillcolor,layer=layer) \n",
    "        fig.add_shape(type=\"rect\", xref=\"x\", yref=\"paper\", x0=row['first'], y0=0, x1=row['last'], y1=1, opacity=opacity, line=dict(color=\"rgba(0,0,0,0)\",width=3),fillcolor=fillcolor,layer=layer)\n",
    "   \n",
    "    return(fig)"
   ]
  },
  {
   "cell_type": "code",
   "execution_count": null,
   "id": "c45a3bac-1e60-4a5c-88a0-8df3256748b9",
   "metadata": {},
   "outputs": [],
   "source": [
    "# Function for calculating F-score and BA\n",
    "\n",
    "def getStats(smelt):\n",
    "    # Saving the variables \n",
    "    smelt_b = (smelt.output.scalarCanopyWat_mean).squeeze('hru')\n",
    "    #smelt_b = (smelt.scalarCanopyWat_mean).squeeze('hru')\n",
    "\n",
    "    min_value = 0.1\n",
    "    #min_value = 2\n",
    "    # Making the variables binary, using a threshold for that datetime \n",
    "    issuemelt    = smelt_b.where(smelt_b > min_value, 0)         # change any value less than 2, to 0 --- 2 or whatever SWE canopy height\n",
    "    smelt_binary = issuemelt.where(issuemelt <= min_value, 1)     # change any value greater than 2, to 1\n",
    "    smelt_binary = smelt_binary.to_dataframe()\n",
    "\n",
    "    # Create Fixed Daterange and index by it\n",
    "    smelt_binary['datetime'] = pd.date_range(start='2016-10-10 06:00:00', end='2017-05-16T06:00:00',freq='H')\n",
    "    smelt_binary = smelt_binary.set_index('datetime')\n",
    "\n",
    "    dfmelt = obs\n",
    "    dfmelt = dfmelt.loc['2016-10-10T06:00:00':'2017-05-16T06:00:00'] \n",
    "    dfmelt['model'] = smelt_binary['scalarCanopyWat_mean']\n",
    "\n",
    "    #dfmelt = dfmelt.append(smelt_binary['scalarCanopyWat_mean'])\n",
    "\n",
    "    # True Negative and Postive\n",
    "    mtruenegdf = dfmelt.where((dfmelt['model'] == 0) & (dfmelt['value'] == 0)) # where this condition is true, keep array and replace else with nan\n",
    "    mtrueposdf = dfmelt.where((dfmelt['model'] == 1) & (dfmelt['value'] == 1))\n",
    "\n",
    "    # False Negative and Postive \n",
    "    mfalsenegdf = dfmelt.where((dfmelt['model'] == 0) & (dfmelt['value'] == 1))\n",
    "    mfalseposdf = dfmelt.where((dfmelt['model'] == 1) & (dfmelt['value'] == 0))\n",
    "\n",
    "    # Add them up to see how many there are\n",
    "    mTN = mtruenegdf.count()\n",
    "    mTP = mtrueposdf.count()\n",
    "    mFN = mfalsenegdf.count()\n",
    "    mFP = mfalseposdf.count()\n",
    "\n",
    "    # Calculate F-Score\n",
    "    mfscore = (2*mTP)/((2*mTP) + mFP + mFN)\n",
    "\n",
    "    # Balanced Accuracy\n",
    "    mBA = .5*((mTP/(mTP+mFN))+(mTN/(mTN+mFP)))\n",
    "\n",
    "    # Print everything \n",
    "    #print(\"MELT RESULTS\")\n",
    "    #print('F-Score:', mfscore.value)\n",
    "    #print('Balanced Accuracy:', mBA.value)\n",
    "    print(mBA.value, mTP.value, mTN.value, mFP.value, mFN.value)\n",
    "    return "
   ]
  }
 ],
 "metadata": {
  "kernelspec": {
   "display_name": "Python 3 (ipykernel)",
   "language": "python",
   "name": "python3"
  },
  "language_info": {
   "codemirror_mode": {
    "name": "ipython",
    "version": 3
   },
   "file_extension": ".py",
   "mimetype": "text/x-python",
   "name": "python",
   "nbconvert_exporter": "python",
   "pygments_lexer": "ipython3",
   "version": "3.9.16"
  }
 },
 "nbformat": 4,
 "nbformat_minor": 5
}
